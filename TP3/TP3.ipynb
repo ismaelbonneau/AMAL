{
 "cells": [
  {
   "cell_type": "markdown",
   "metadata": {},
   "source": [
    "# TP 3: Implémentation de module, Gestion de données, Checkpointing et GPU\n",
    "\n",
    "_Ismaël Bonneau & Issam Benamara_\n",
    "\n",
    "Le vrai code, comme les imports, le chargement des données se trouve dans le fichier _tp3.py_. Ce rapport sert à présenter l'avancée de notre travail et notre compréhension du sujet.\n",
    "\n",
    "### Dataset & Dataloader\n",
    "\n",
    "Nous avons exploré les possibilités des dataloaders et datasets.\n",
    "\n",
    "Un ***Dataset*** en pytorch: classe encapsulant des données labelisées (ou non) X et Y.\n",
    "\n",
    "\n",
    "Un ***DataLoader***: interface de manipulation d'un dataset fournissant un itérateur dessus et de nombreuses options utiles. Parmi elles, on peut noter:\n",
    "\n",
    "- ***batch_size***, qui permet de parcourir le dataloader comme un itérable sur le dataset en nous renvoyant des batches x, y de la taille spécifiée. Très utile. \n",
    "- ***shuffle***, qui dit au dataloader de re mélanger dans un ordre random les exemples du dataset à chaque itération dessus ( = chaque _epoch_ de l'apprentissage)\n",
    "- ***sampler et batch_sampler*** qui permettent de spécifier la méthode de sampling des exemples.\n",
    "- ***collate_fn*** permet de spécifier la façon dont on veut assembler les données (par défaut, renvoie un tuple (exemple(s), label(s). \n",
    "\n",
    "#### Voici un exemple de dataset pour MNIST qui renvoie un couple (Tenseur 1D, label) pour chaque image"
   ]
  },
  {
   "cell_type": "code",
   "execution_count": 15,
   "metadata": {},
   "outputs": [],
   "source": [
    "class Dataset_MNIST(Dataset):\n",
    "    def __init__(self, x, y):\n",
    "        super(Dataset_MNIST, self).__init__()\n",
    "        self.labels = torch.from_numpy(y)\n",
    "        self.data = torch.from_numpy(x).float()\n",
    "    def __getitem__(self, index):\n",
    "        return self.data[index], self.labels[index]\n",
    "    def __len__(self):\n",
    "        return len(self.labels)"
   ]
  },
  {
   "cell_type": "markdown",
   "metadata": {},
   "source": [
    "Le dataloader associé avec une taille de batch de 40 sera créé ainsi:"
   ]
  },
  {
   "cell_type": "code",
   "execution_count": null,
   "metadata": {},
   "outputs": [],
   "source": [
    "train_dataset = Dataset_MNIST(X_train, y_train)\n",
    "trainloader = DataLoader(dataset=train_dataset, batch_size=40, shuffle=True)"
   ]
  },
  {
   "cell_type": "markdown",
   "metadata": {},
   "source": [
    "### Implémentation d'un tied auto-encoder\n",
    "\n",
    "Un auto encoder permet d'encoder des objets dans un espace de dimension plus petite, pour en créer une représentation de plus haut niveau. On guide la construction de cet espace en cherchant à reconstruire les objets de départ d'après l'espace latent de façon la plus précise possible. \n",
    "\n",
    "Dans le cas d'un tied auto-encoder, les paramètres servant à l'encodage sont les mêmes que ceux servant au décodage. Cela présente plusieurs avantages:\n",
    "\n",
    "- Cela fait moins de paramètres à apprendre.\n",
    "- Il s'agit d'une façon de régulariser.\n",
    "- C'est au final très proche d'une PCA."
   ]
  },
  {
   "cell_type": "code",
   "execution_count": 14,
   "metadata": {},
   "outputs": [],
   "source": [
    "class TiedAutoEncoder(nn.Module):\n",
    "    \"\"\" tied AutoEncoder: encoder and decoder share weights\"\"\"\n",
    "    def __init__(self, input_dim, latent):\n",
    "        super(TiedAutoEncoder, self).__init__()\n",
    "        self.W = torch.nn.Parameter(torch.randn(input_dim, latent), requires_grad=True)\n",
    "        self.b1 = torch.nn.Parameter(torch.randn(1), requires_grad=True)# bias for encoder\n",
    "        self.b2 = torch.nn.Parameter(torch.randn(1), requires_grad=True)# bias for decoder\n",
    "\n",
    "    def encode(self, x):\n",
    "        return nn.functional.relu(x @ self.W + self.b1)\n",
    "\n",
    "    def decode(self, x):\n",
    "        return torch.sigmoid(x @ self.W.t() + self.b2)\n",
    "\n",
    "    def forward(self, x):\n",
    "        return self.decode(self.encode(x))"
   ]
  },
  {
   "cell_type": "markdown",
   "metadata": {},
   "source": [
    "#### On pourra comparer avec un auto encoder classique:"
   ]
  },
  {
   "cell_type": "code",
   "execution_count": 74,
   "metadata": {},
   "outputs": [],
   "source": [
    "class AutoEncoder(nn.Module):\n",
    "    \"\"\" classical & simple AutoEncoder \"\"\"\n",
    "    def __init__(self, input_dim, latent):\n",
    "        super(AutoEncoder, self).__init__()\n",
    "        self.encoder = torch.nn.Linear(input_dim, latent)\n",
    "        self.decoder = torch.nn.Linear(latent, input_dim)\n",
    "\n",
    "    def encode(self, x):\n",
    "        return nn.functional.relu(self.encoder(x))\n",
    "\n",
    "    def decode(self, x):\n",
    "        return torch.sigmoid(self.decoder(x))\n",
    "\n",
    "    def forward(self, x):\n",
    "        return self.decode(self.encode(x))"
   ]
  },
  {
   "cell_type": "markdown",
   "metadata": {},
   "source": [
    "### GPU & checkpoints\n",
    "\n"
   ]
  },
  {
   "cell_type": "code",
   "execution_count": null,
   "metadata": {},
   "outputs": [],
   "source": [
    "class State:\n",
    "    def __init__(self, model, optim):\n",
    "    self.model = model\n",
    "    self.optim = optim\n",
    "    self.epoch, self.iteration = 0, 0"
   ]
  },
  {
   "cell_type": "markdown",
   "metadata": {},
   "source": [
    "### Campagne d'expériences:\n",
    "\n",
    "- Evaluer l'influence de la taille de l'espace latent dans la qualité de la reconstruction\n",
    "- Comparer Tied Autoencoder et Autoencoder classique\n",
    "\n",
    "\n",
    "Pour cette campagne d'expériences, on prendra les données MNIST, qui sont des images d'écriture manuscrite de chiffres entre 0 et 9. Ces images sont en taille 28x28 pixels"
   ]
  },
  {
   "cell_type": "markdown",
   "metadata": {},
   "source": [
    "| modèle        | dimension 10          | dimension 50  | dimension 100  |\n",
    "| ------------- |:-------------:| -----:| -----:|\n",
    "| Tied AutoEncoder      | right-aligned | caca | caca |\n",
    "| AutoEncoder     | centered      |   caca | caca |"
   ]
  },
  {
   "cell_type": "markdown",
   "metadata": {},
   "source": [
    "<img src=\"tiedautoencoder.png\">\n",
    "<img src=\"autoencoder.png\">"
   ]
  },
  {
   "cell_type": "code",
   "execution_count": 2,
   "metadata": {},
   "outputs": [],
   "source": [
    "import numpy as np\n",
    "import pickle\n",
    "\n",
    "import torch\n",
    "import torch.nn as nn\n",
    "from torch.utils.data import Dataset\n",
    "from torch.utils.data import DataLoader\n",
    "\n",
    "from mlxtend.data import loadlocal_mnist\n",
    "from sklearn.preprocessing import normalize\n",
    "\n",
    "# Dataset d'images MNIST\n",
    "\n",
    "class Dataset_MNIST(Dataset):\n",
    "    def __init__(self, x, y):\n",
    "        super(Dataset_MNIST, self).__init__()\n",
    "        self.labels = torch.from_numpy(y)\n",
    "        self.data = torch.from_numpy(x).float()\n",
    "    def __getitem__(self, index):\n",
    "        return self.data[index], self.labels[index]\n",
    "    def __len__(self):\n",
    "        return len(self.labels)"
   ]
  },
  {
   "cell_type": "code",
   "execution_count": 3,
   "metadata": {},
   "outputs": [
    {
     "name": "stdout",
     "output_type": "stream",
     "text": [
      "train shapes:  (60000, 784) (60000,)\n",
      "test shapes:  (10000, 784) (10000,)\n"
     ]
    }
   ],
   "source": [
    "seed = 1997\n",
    "torch.manual_seed(seed)\n",
    "\n",
    "X_train, y_train = loadlocal_mnist(images_path='/home/ismael/Documents/master/AMAL/TP3/mnist/train-images.idx3-ubyte',\n",
    "                                   labels_path='/home/ismael/Documents/master/AMAL/TP3/mnist/train-labels.idx1-ubyte')\n",
    "\n",
    "X_test, y_test = loadlocal_mnist(images_path='/home/ismael/Documents/master/AMAL/TP3/mnist/t10k-images.idx3-ubyte',\n",
    "                                 labels_path='/home/ismael/Documents/master/AMAL/TP3/mnist/t10k-labels.idx1-ubyte')\n",
    "\n",
    "# images sous forme de vecteurs\n",
    "print(\"train shapes: \", X_train.shape, y_train.shape)\n",
    "print(\"test shapes: \", X_test.shape, y_test.shape)\n",
    "\n",
    "assert X_train.shape[0] == y_train.shape[0]\n",
    "assert X_test.shape[0] == y_test.shape[0]\n",
    "\n",
    "X_train = X_train.astype(float)\n",
    "X_test = X_test.astype(float)\n",
    "\n",
    "X_train /= 255.\n",
    "X_test /= 255."
   ]
  },
  {
   "cell_type": "code",
   "execution_count": 11,
   "metadata": {},
   "outputs": [],
   "source": [
    "import matplotlib.pyplot as plt\n",
    "\n",
    "def afficher(x):\n",
    "    plt.axis(\"off\")\n",
    "    plt.imshow(x.reshape(28, 28), cmap='gray', vmin=0, vmax=1)\n",
    "    plt.show()"
   ]
  },
  {
   "cell_type": "code",
   "execution_count": 13,
   "metadata": {},
   "outputs": [
    {
     "data": {
      "image/png": "[encoded data removed]",
      "text/plain": [
       "<Figure size 432x288 with 1 Axes>"
      ]
     },
     "metadata": {
      "needs_background": "light"
     },
     "output_type": "display_data"
    }
   ],
   "source": [
    "afficher(X_train[38])"
   ]
  },
  {
   "cell_type": "code",
   "execution_count": 16,
   "metadata": {},
   "outputs": [],
   "source": [
    "train_dataset = Dataset_MNIST(X_train, y_train)\n",
    "trainloader = DataLoader(dataset=train_dataset, batch_size=40, shuffle=True)\n",
    "\n",
    "test_dataset = Dataset_MNIST(X_test, y_test)\n",
    "testloader = DataLoader(dataset=test_dataset, batch_size=40, shuffle=False)\n",
    "\n",
    "latent_dim = 100 # encoder en dimension 100"
   ]
  },
  {
   "cell_type": "code",
   "execution_count": 75,
   "metadata": {},
   "outputs": [],
   "source": [
    "model = AutoEncoder(X_train.shape[1], 5) \n",
    "\n",
    "criterion = nn.MSELoss()\n",
    "optimizer = torch.optim.Adam(model.parameters(), lr=1e-3, weight_decay=1e-5)"
   ]
  },
  {
   "cell_type": "code",
   "execution_count": 76,
   "metadata": {},
   "outputs": [],
   "source": [
    "epochs = 70\n",
    "\n",
    "for e in range(epochs):\n",
    "    for image_batch, label_batch in trainloader:\n",
    "        model.train()\n",
    "        optimizer.zero_grad()\n",
    "\n",
    "        reconstructed = model(image_batch)\n",
    "        loss = criterion(image_batch, reconstructed)\n",
    "\n",
    "        loss.backward()\n",
    "        optimizer.step()"
   ]
  },
  {
   "cell_type": "code",
   "execution_count": 77,
   "metadata": {},
   "outputs": [],
   "source": [
    "def predict(index):\n",
    "    with torch.no_grad():\n",
    "        pred = model(torch.from_numpy(X_test[index]).float())\n",
    "        return pred"
   ]
  },
  {
   "cell_type": "code",
   "execution_count": 78,
   "metadata": {},
   "outputs": [],
   "source": [
    "def comparer(original, reconstructed):\n",
    "    fig, axs = plt.subplots(1, 2)\n",
    "    axs[0].axis(\"off\")\n",
    "    axs[0].set_title(\"original\")\n",
    "    axs[0].imshow(original.reshape(28, 28), cmap='gray', vmin=0, vmax=1)\n",
    "    axs[1].axis(\"off\")\n",
    "    axs[1].set_title(\"reconstructed\")\n",
    "    axs[1].imshow(reconstructed.reshape(28, 28), cmap='gray', vmin=0, vmax=1)\n",
    "    plt.show()"
   ]
  },
  {
   "cell_type": "code",
   "execution_count": 79,
   "metadata": {},
   "outputs": [
    {
     "data": {
      "image/png": "[encoded data removed]",
      "text/plain": [
       "<Figure size 432x288 with 2 Axes>"
      ]
     },
     "metadata": {
      "needs_background": "light"
     },
     "output_type": "display_data"
    }
   ],
   "source": [
    "x_test_1997 = predict(1997)\n",
    "comparer(X_test[1997], x_test_1997)"
   ]
  },
  {
   "cell_type": "code",
   "execution_count": 80,
   "metadata": {},
   "outputs": [
    {
     "data": {
      "image/png": "[encoded data removed]",
      "text/plain": [
       "<Figure size 432x288 with 2 Axes>"
      ]
     },
     "metadata": {
      "needs_background": "light"
     },
     "output_type": "display_data"
    }
   ],
   "source": [
    "x_test_1998 = predict(1976)\n",
    "comparer(X_test[1976], x_test_1998)"
   ]
  },
  {
   "cell_type": "code",
   "execution_count": 82,
   "metadata": {},
   "outputs": [
    {
     "data": {
      "image/png": "[encoded data removed]",
      "text/plain": [
       "<Figure size 432x288 with 2 Axes>"
      ]
     },
     "metadata": {
      "needs_background": "light"
     },
     "output_type": "display_data"
    }
   ],
   "source": [
    "x_test_1998 = predict(1999)\n",
    "comparer(X_test[1999], x_test_1998)"
   ]
  }
 ],
 "metadata": {
  "kernelspec": {
   "display_name": "Python 3",
   "language": "python",
   "name": "python3"
  },
  "language_info": {
   "codemirror_mode": {
    "name": "ipython",
    "version": 3
   },
   "file_extension": ".py",
   "mimetype": "text/x-python",
   "name": "python",
   "nbconvert_exporter": "python",
   "pygments_lexer": "ipython3",
   "version": "3.7.1"
  }
 },
 "nbformat": 4,
 "nbformat_minor": 2
}
