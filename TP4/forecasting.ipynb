{
 "cells": [
  {
   "cell_type": "markdown",
   "metadata": {},
   "source": [
    "# TP 4 RNNs: classification de séquences, forecasting, génération de séquences (suite)\n",
    "\n",
    "_Ismaël Bonneau_\n",
    "\n",
    "Ce notebook sert uniquement à présenter nos résultats, et les bouts de code intéressants dans le cadre de ce rapport. L'intégralité du code est contenu dans le fichier tp4.py.\n",
    "\n",
    "## But\n",
    "\n",
    "Nous avons dans le notebook précédent codé un RNN from scratch et nous l'avons appliqué sur une tâche de classification de séquence. Nous allons maintenant reprendre ce RNN et réaliser une tâche de génération de séquence.\n",
    "\n",
    "## Données\n",
    "\n",
    "Le jeu de données suggéré dans l'énoncé est un discours de Donald Trump. Cependant, il est beaucoup plus drôle de travailler sur le script du seigneur des anneaux. \n",
    "\n",
    "<img src=\"boromir.jpg\">"
   ]
  },
  {
   "cell_type": "code",
   "execution_count": 1,
   "metadata": {},
   "outputs": [],
   "source": [
    "import numpy as np\n",
    "import torch\n",
    "import torch.nn as nn\n",
    "\n",
    "import pandas as pd\n",
    "import matplotlib.pyplot as plt\n",
    "import seaborn as sns\n",
    "\n",
    "sns.set()\n",
    "\n",
    "%matplotlib inline\n",
    "%load_ext autoreload\n",
    "%autoreload 2\n",
    "\n",
    "import models\n",
    "from sklearn.utils import shuffle\n",
    "from sklearn.model_selection import train_test_split"
   ]
  },
  {
   "cell_type": "code",
   "execution_count": 33,
   "metadata": {},
   "outputs": [],
   "source": [
    "bestmovieever = pd.read_csv(\"data/lord-of-the-rings-data/lotr_scripts.csv\")"
   ]
  },
  {
   "cell_type": "markdown",
   "metadata": {},
   "source": [
    "### Récupérons les lignes de dialogue des 3 films du seigneur des anneaux. Nous allons garder uniquement les répliques de Gandalf."
   ]
  },
  {
   "cell_type": "code",
   "execution_count": 35,
   "metadata": {},
   "outputs": [
    {
     "data": {
      "text/html": [
       "<div>\n",
       "<style scoped>\n",
       "    .dataframe tbody tr th:only-of-type {\n",
       "        vertical-align: middle;\n",
       "    }\n",
       "\n",
       "    .dataframe tbody tr th {\n",
       "        vertical-align: top;\n",
       "    }\n",
       "\n",
       "    .dataframe thead th {\n",
       "        text-align: right;\n",
       "    }\n",
       "</style>\n",
       "<table border=\"1\" class=\"dataframe\">\n",
       "  <thead>\n",
       "    <tr style=\"text-align: right;\">\n",
       "      <th></th>\n",
       "      <th>Unnamed: 0</th>\n",
       "      <th>char</th>\n",
       "      <th>dialog</th>\n",
       "      <th>movie</th>\n",
       "    </tr>\n",
       "  </thead>\n",
       "  <tbody>\n",
       "    <tr>\n",
       "      <td>34</td>\n",
       "      <td>34</td>\n",
       "      <td>GANDALF</td>\n",
       "      <td>Now come the days of the King. May they be...</td>\n",
       "      <td>The Return of the King</td>\n",
       "    </tr>\n",
       "    <tr>\n",
       "      <td>68</td>\n",
       "      <td>68</td>\n",
       "      <td>GANDALF</td>\n",
       "      <td>Hobbits!</td>\n",
       "      <td>The Return of the King</td>\n",
       "    </tr>\n",
       "    <tr>\n",
       "      <td>72</td>\n",
       "      <td>72</td>\n",
       "      <td>GANDALF</td>\n",
       "      <td>Be careful. Even in defeat, Saruman is dangero...</td>\n",
       "      <td>The Return of the King</td>\n",
       "    </tr>\n",
       "    <tr>\n",
       "      <td>74</td>\n",
       "      <td>74</td>\n",
       "      <td>GANDALF</td>\n",
       "      <td>No, we need him alive. We need him to talk.</td>\n",
       "      <td>The Return of the King</td>\n",
       "    </tr>\n",
       "    <tr>\n",
       "      <td>78</td>\n",
       "      <td>78</td>\n",
       "      <td>GANDALF</td>\n",
       "      <td>Your treachery has already cost many lives. Th...</td>\n",
       "      <td>The Return of the King</td>\n",
       "    </tr>\n",
       "  </tbody>\n",
       "</table>\n",
       "</div>"
      ],
      "text/plain": [
       "    Unnamed: 0     char                                             dialog  \\\n",
       "34          34  GANDALF      Now come the days of the King. May they be...   \n",
       "68          68  GANDALF                                         Hobbits!     \n",
       "72          72  GANDALF  Be careful. Even in defeat, Saruman is dangero...   \n",
       "74          74  GANDALF      No, we need him alive. We need him to talk.     \n",
       "78          78  GANDALF  Your treachery has already cost many lives. Th...   \n",
       "\n",
       "                      movie  \n",
       "34  The Return of the King   \n",
       "68  The Return of the King   \n",
       "72  The Return of the King   \n",
       "74  The Return of the King   \n",
       "78  The Return of the King   "
      ]
     },
     "execution_count": 35,
     "metadata": {},
     "output_type": "execute_result"
    }
   ],
   "source": [
    "bestmovieever[bestmovieever[\"char\"] == \"GANDALF\"].head()"
   ]
  },
  {
   "cell_type": "markdown",
   "metadata": {},
   "source": [
    "### On nettoie un peu les lignes de dialogue:"
   ]
  },
  {
   "cell_type": "code",
   "execution_count": 57,
   "metadata": {},
   "outputs": [],
   "source": [
    "from gensim.parsing.preprocessing import preprocess_string\n",
    "from gensim.parsing.preprocessing import strip_multiple_whitespaces, strip_tags\n",
    "\n",
    "CUSTOM_FILTERS = [strip_tags, strip_multiple_whitespaces]\n",
    "\n",
    "hey = list(bestmovieever[bestmovieever[\"char\"] == \"GANDALF\"][\"dialog\"])\n",
    "gandalf = []\n",
    "for d in hey:\n",
    "    gandalf.append(\" \".join(preprocess_string(d, CUSTOM_FILTERS)))"
   ]
  },
  {
   "cell_type": "code",
   "execution_count": 59,
   "metadata": {},
   "outputs": [
    {
     "data": {
      "text/plain": [
       "'Now come the days of the King. May they be blessed.'"
      ]
     },
     "execution_count": 59,
     "metadata": {},
     "output_type": "execute_result"
    }
   ],
   "source": [
    "gandalf[0]"
   ]
  },
  {
   "cell_type": "markdown",
   "metadata": {},
   "source": [
    "### Nous allons travailler au niveau des caractères. \n",
    "\n",
    "il faut encoder chaque caractère sous forme d'id numérique (entier)."
   ]
  },
  {
   "cell_type": "code",
   "execution_count": 68,
   "metadata": {},
   "outputs": [],
   "source": [
    "import string\n",
    "import unicodedata\n",
    "\n",
    "LETTRES = string.ascii_letters + string.punctuation + string.digits + ' '\n",
    "id2lettre = dict(zip(range(1, len(LETTRES)+1),LETTRES))\n",
    "id2lettre[0]= ' ' ##NULL CHARACTER\n",
    "lettre2id = dict(zip(id2lettre.values(), id2lettre.keys()))\n",
    "\n",
    "def normalize(s):\n",
    "    return ''.join(c for c in unicodedata.normalize('NFD', s) if c in LETTRES)\n",
    "def string2code(s):\n",
    "    return torch.tensor([lettre2id [c] for c in normalize(s)])\n",
    "def code2string(t):\n",
    "    if type(t) != list:\n",
    "        t = t.tolist()\n",
    "    return ''.join(id2lettre[i] for i in t)"
   ]
  },
  {
   "cell_type": "code",
   "execution_count": 69,
   "metadata": {},
   "outputs": [
    {
     "data": {
      "text/plain": [
       "tensor([40, 15, 23,  0,  3, 15, 13,  5,  0, 20,  8,  5,  0,  4,  1, 25, 19,  0,\n",
       "        15,  6,  0, 20,  8,  5,  0, 37,  9, 14,  7, 66,  0, 39,  1, 25,  0, 20,\n",
       "         8,  5, 25,  0,  2,  5,  0,  2, 12,  5, 19, 19,  5,  4, 66])"
      ]
     },
     "execution_count": 69,
     "metadata": {},
     "output_type": "execute_result"
    }
   ],
   "source": [
    "string2code(gandalf[0])"
   ]
  },
  {
   "cell_type": "code",
   "execution_count": null,
   "metadata": {},
   "outputs": [],
   "source": []
  }
 ],
 "metadata": {
  "kernelspec": {
   "display_name": "Python 3",
   "language": "python",
   "name": "python3"
  },
  "language_info": {
   "codemirror_mode": {
    "name": "ipython",
    "version": 3
   },
   "file_extension": ".py",
   "mimetype": "text/x-python",
   "name": "python",
   "nbconvert_exporter": "python",
   "pygments_lexer": "ipython3",
   "version": "3.7.1"
  }
 },
 "nbformat": 4,
 "nbformat_minor": 2
}
